{
 "cells": [
  {
   "cell_type": "code",
   "execution_count": 1,
   "metadata": {},
   "outputs": [],
   "source": [
    "import csv\n",
    "import PyPDF2\n",
    "import pandas as pd\n",
    "import textract\n",
    "import sys, re, os\n",
    "import random"
   ]
  },
  {
   "cell_type": "code",
   "execution_count": 2,
   "metadata": {},
   "outputs": [],
   "source": [
    "def napraviCSV(path, pisac, tip_fajla):\n",
    "    #ucitavamo pdf fajl i citamo tekst tog pdf fajla\n",
    "    text = textract.process(path, method='pdfminer', encoding = 'raw_unicode_escape')\n",
    "\n",
    "    text = text.decode('raw_unicode_escape')\n",
    "    \n",
    "    #brisemo entere     \n",
    "    ri = re.compile(r\"\\n\")\n",
    "    newText = re.sub(ri, r' ', text)\n",
    "    \n",
    "    ri = re.compile(r\"\\t\")\n",
    "    newText = re.sub(ri, r' ', newText.strip('\\t'))\n",
    "    \n",
    "    ri = re.compile(r\"\\ñ\")\n",
    "    newText = re.sub(ri, r'dj', newText)\n",
    "\n",
    "    #brisemo znakove intepunkcije\n",
    "    ri = re.compile(r\"[!.\\?<=>:;,_-]\")\n",
    "    newText = re.sub(ri, r'', newText)\n",
    "    \n",
    "    ri = re.compile(r\"[\\—\\»\\«\\(\\)]\")\n",
    "    newText = re.sub(ri, r'', newText)\n",
    "    \n",
    "    #ubacujemo slovo ž\n",
    "    ri = re.compile(r\"(\\\\u017)|[žŽ]\")\n",
    "    newText = re.sub(ri, r'z', newText)\n",
    "\n",
    "    #ubacujemo slovo ć\n",
    "    ri = re.compile(r\"(\\\\u0107)|[ćĆ]\")\n",
    "    newText = re.sub(ri, r'c', newText)\n",
    "\n",
    "    #ubacujemo slovo č\n",
    "    ri = re.compile(r\"(\\\\u010d)|[čČ]\")\n",
    "    newText = re.sub(ri, r'c', newText)\n",
    "\n",
    "    #ubacujemo slovo đ\n",
    "    ri = re.compile(r\"(\\\\u0161)|[đĐ]\")\n",
    "    newText = re.sub(ri, r'dj', newText)\n",
    "    \n",
    "    ri = re.compile(r\" +\")\n",
    "    newText = re.sub(ri, r' ', newText)\n",
    "\n",
    "    #ubacujemo slovo š\n",
    "    ri = re.compile(r\"(\\/xfl)|[šŠ]\")\n",
    "    krajnji = re.sub(ri, r's', newText)\n",
    "    \n",
    "    #ubacujemo newText u listu\n",
    "    for f in re.findall(\"([A-Z]+)\", krajnji):\n",
    "        #prebacujemo sva velika slova u mala\n",
    "        krajnji = krajnji.replace(f, f.lower())\n",
    "    #string krajnji razdvajamo u listu, separator je razmak\n",
    "    lista = krajnji.split(' ')\n",
    "\n",
    "    print(len(lista))\n",
    "    #4897874\n",
    "    tmp = \"\"\n",
    "    #u ovu promenjivu cemo da stavimo sve redove koje ubacujemo u CSV\n",
    "    listaSemplova = []\n",
    "\n",
    "    pocetak = len(lista) % 1500\n",
    "        \n",
    "    for i in range(pocetak, len(lista)):\n",
    "        tmp += lista[i] + \" \"\n",
    "        if(i % 500 == 0 and i > 0):\n",
    "            listaSemplova.append([tmp, pisac])\n",
    "            tmp = \"\"\n",
    "    \n",
    "    if(tip_fajla == \"test\" and len(listaSemplova) > 100):\n",
    "        listaSemplova = random.sample(listaSemplova, 100)\n",
    "        \n",
    "    my_df = pd.DataFrame(listaSemplova)\n",
    "    #my_df.to_csv(pisac+'.csv', index=False, header=False)\n",
    "    if(tip_fajla == \"trening\"):\n",
    "        print(my_df.head())\n",
    "        #proveravamo da li postoji CSV fajl i ako postoji appendujemo, ako ne pravimo ga.\n",
    "        if not os.path.isfile('trening.csv'):\n",
    "            my_df.to_csv('trening.csv', header='column_names', index=False)\n",
    "        else: # else it exists so append without writing the header\n",
    "            my_df.to_csv('trening.csv', mode='a', header=False, index=False)\n",
    "    else:\n",
    "        print(\"USAO OVDE ZA KNJIGU \")\n",
    "        print(path)\n",
    "        print(len(my_df))\n",
    "        #proveravamo da li postoji CSV fajl i ako postoji appendujemo, ako ne pravimo ga.\n",
    "        if not os.path.isfile('test.csv'):\n",
    "            my_df.to_csv('test.csv', header='column_names', index=False)\n",
    "        else: # else it exists so append without writing the header\n",
    "            my_df.to_csv('test.csv', mode='a', header=False, index=False)"
   ]
  },
  {
   "cell_type": "code",
   "execution_count": 3,
   "metadata": {},
   "outputs": [
    {
     "name": "stdout",
     "output_type": "stream",
     "text": [
      "147578\n",
      "                                                   0       1\n",
      "0  recnik turskih reci i provincijalizama 1 2 \f",
      "za...  andric\n",
      "1  mu duga stanka vojske su ovdje padale pa se ni...  andric\n",
      "2  dok sja nigde ne sja tako kao nad njihovim gra...  andric\n",
      "3  stranac ugledan putnik mozda i to se zna sta j...  andric\n",
      "4  u srbiji kao vidan znak novih vremena i novih ...  andric\n"
     ]
    }
   ],
   "source": [
    "path = 'knjige/Ivo Andrić - Travnička hronika.pdf'\n",
    "napraviCSV(path, \"andric\", \"trening\")"
   ]
  },
  {
   "cell_type": "code",
   "execution_count": 4,
   "metadata": {},
   "outputs": [
    {
     "name": "stdout",
     "output_type": "stream",
     "text": [
      "114877\n",
      "                                                   0       1\n",
      "0  zivot coveka iz kasabe u svima pricanjima o li...  andric\n",
      "1  znali su sve majstorski izrezane obline i udub...  andric\n",
      "2  ga jos nije videlo jer deca ne umiru ali ga je...  andric\n",
      "3  zovu bunarima i u njima drze i jedni i drugi b...  andric\n",
      "4  dobacivanja i sasaptavanja tu su i prvi poslov...  andric\n"
     ]
    }
   ],
   "source": [
    "path = 'knjige/Ivo-Andric-Na-Drini-cuprija.pdf'\n",
    "napraviCSV(path, \"andric\", \"trening\")"
   ]
  },
  {
   "cell_type": "code",
   "execution_count": 5,
   "metadata": {},
   "outputs": [
    {
     "name": "stdout",
     "output_type": "stream",
     "text": [
      "119180\n",
      "                                                   0          1\n",
      "0  to samo rijec ili je misao ako je misao onda j...  selimovic\n",
      "1  da ima mnogo slicnosti izmedju tog stjesnjavan...  selimovic\n",
      "2  sve ima vremena dao sam ga sam sebi a sudjenje...  selimovic\n",
      "3  vidim ono sto me se ne tice tako sam blize seb...  selimovic\n",
      "4  on tobom zadovolјan udji medju robove moje udj...  selimovic\n"
     ]
    }
   ],
   "source": [
    "path = 'knjige/Meša Selimović - Derviš i smrt.pdf'\n",
    "napraviCSV(path, \"selimovic\", \"trening\")"
   ]
  },
  {
   "cell_type": "code",
   "execution_count": 6,
   "metadata": {},
   "outputs": [
    {
     "name": "stdout",
     "output_type": "stream",
     "text": [
      "108628\n",
      "                                                   0          1\n",
      "0  pratilackim pojavama uskomesanosti bunta i ner...  selimovic\n",
      "1  preplivao sam od kisa nabujali dnjestar i tako...  selimovic\n",
      "2  vojnicima u svakome od nas za drugoga je bilo ...  selimovic\n",
      "3  osvajalo je nesto sto im nije bilo potrebno i ...  selimovic\n",
      "4  o kravi sama muz joj je sigurno s onu stranu m...  selimovic\n"
     ]
    }
   ],
   "source": [
    "path = 'knjige/mesa-selimovic-tvrdjava.pdf'\n",
    "napraviCSV(path, \"selimovic\", \"trening\")"
   ]
  },
  {
   "cell_type": "code",
   "execution_count": 7,
   "metadata": {},
   "outputs": [
    {
     "name": "stdout",
     "output_type": "stream",
     "text": [
      "69123\n",
      "USAO OVDE ZA KNJIGU \n",
      "testKnjige/Ivo Andric Gospodjica.pdf\n",
      "100\n"
     ]
    }
   ],
   "source": [
    "path = 'testKnjige/Ivo Andric Gospodjica.pdf'\n",
    "napraviCSV(path, \"andric\", \"test\")"
   ]
  },
  {
   "cell_type": "code",
   "execution_count": 8,
   "metadata": {},
   "outputs": [
    {
     "name": "stdout",
     "output_type": "stream",
     "text": [
      "50672\n",
      "USAO OVDE ZA KNJIGU \n",
      "testKnjige/Meša Selimović - Tišine.pdf\n",
      "99\n"
     ]
    }
   ],
   "source": [
    "path = 'testKnjige/Meša Selimović - Tišine.pdf'\n",
    "napraviCSV(path, \"selimovic\", \"test\")"
   ]
  },
  {
   "cell_type": "code",
   "execution_count": 9,
   "metadata": {},
   "outputs": [
    {
     "name": "stdout",
     "output_type": "stream",
     "text": [
      "1950\n",
      "199\n"
     ]
    }
   ],
   "source": [
    "trening = pd.read_csv('trening.csv')\n",
    "print(len(trening))\n",
    "test = pd.read_csv('test.csv')\n",
    "print(len(test))"
   ]
  }
 ],
 "metadata": {
  "kernelspec": {
   "display_name": "Python 3",
   "language": "python",
   "name": "python3"
  },
  "language_info": {
   "codemirror_mode": {
    "name": "ipython",
    "version": 3
   },
   "file_extension": ".py",
   "mimetype": "text/x-python",
   "name": "python",
   "nbconvert_exporter": "python",
   "pygments_lexer": "ipython3",
   "version": "3.6.9"
  }
 },
 "nbformat": 4,
 "nbformat_minor": 4
}
