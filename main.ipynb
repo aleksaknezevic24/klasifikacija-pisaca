{
 "cells": [
  {
   "cell_type": "code",
   "execution_count": 1,
   "metadata": {},
   "outputs": [
    {
     "name": "stderr",
     "output_type": "stream",
     "text": [
      "Using TensorFlow backend.\n"
     ]
    }
   ],
   "source": [
    "import tensorflow as tf\n",
    "from tensorflow import keras\n",
    "from tensorflow.keras import layers\n",
    "from tensorflow.keras.layers import LeakyReLU\n",
    "from tensorflow.keras.layers import Embedding, concatenate\n",
    "from tensorflow.keras.layers import Conv1D\n",
    "from tensorflow.keras.layers import MaxPooling1D\n",
    "from tensorflow.keras.layers import Dropout\n",
    "from tensorflow.keras.layers import Flatten\n",
    "from tensorflow.keras.layers import Input\n",
    "from tensorflow.keras.layers import Dense, SpatialDropout1D\n",
    "from tensorflow.keras.layers import Bidirectional\n",
    "from tensorflow.keras.layers import LSTM\n",
    "from tensorflow.keras.layers import GRU\n",
    "from tensorflow.keras import Model\n",
    "from tensorflow.keras.layers import GlobalMaxPooling1D, GlobalAveragePooling1D\n",
    "from tensorflow.keras.optimizers import Adam\n",
    "from sklearn.model_selection import train_test_split\n",
    "from sklearn.preprocessing import LabelBinarizer\n",
    "from keras.preprocessing.sequence import pad_sequences\n",
    "from keras.preprocessing.text import Tokenizer\n",
    "from sklearn.preprocessing import OneHotEncoder\n",
    "from sklearn.metrics import precision_score\n",
    "from sklearn.metrics import f1_score\n",
    "from sklearn.metrics import recall_score\n",
    "from sklearn.metrics import confusion_matrix\n",
    "import sklearn.metrics as skm\n",
    "import pandas as pd\n",
    "import numpy as np\n",
    "import matplotlib.pyplot as plt\n",
    "import glob\n",
    "\n",
    "%run pretprocesiranje.ipynb\n",
    "%run model.ipynb\n",
    "%run evaluacija.ipynb\n",
    "\n",
    "df1 = pd.read_csv(\"trening.csv\")\n",
    "df1.rename(columns={ '0':'tekst', '1':'pisac'}, \n",
    "                 inplace=True)\n",
    "\n",
    "#funkcija sample sluzi za nasumicno mesanje samplova  \n",
    "#df1 = df1.sample(frac=1)\n",
    "df1.size\n",
    "df1.reset_index(drop=True, inplace=True)"
   ]
  },
  {
   "cell_type": "code",
   "execution_count": 2,
   "metadata": {},
   "outputs": [
    {
     "data": {
      "text/html": [
       "<div>\n",
       "<style scoped>\n",
       "    .dataframe tbody tr th:only-of-type {\n",
       "        vertical-align: middle;\n",
       "    }\n",
       "\n",
       "    .dataframe tbody tr th {\n",
       "        vertical-align: top;\n",
       "    }\n",
       "\n",
       "    .dataframe thead th {\n",
       "        text-align: right;\n",
       "    }\n",
       "</style>\n",
       "<table border=\"1\" class=\"dataframe\">\n",
       "  <thead>\n",
       "    <tr style=\"text-align: right;\">\n",
       "      <th></th>\n",
       "      <th>tekst</th>\n",
       "      <th>pisac</th>\n",
       "    </tr>\n",
       "  </thead>\n",
       "  <tbody>\n",
       "    <tr>\n",
       "      <th>0</th>\n",
       "      <td>recnik turskih reci i provincijalizama 1 2 \f",
       "za...</td>\n",
       "      <td>andric</td>\n",
       "    </tr>\n",
       "    <tr>\n",
       "      <th>1</th>\n",
       "      <td>mu duga stanka vojske su ovdje padale pa se ni...</td>\n",
       "      <td>andric</td>\n",
       "    </tr>\n",
       "    <tr>\n",
       "      <th>2</th>\n",
       "      <td>dok sja nigde ne sja tako kao nad njihovim gra...</td>\n",
       "      <td>andric</td>\n",
       "    </tr>\n",
       "    <tr>\n",
       "      <th>3</th>\n",
       "      <td>stranac ugledan putnik mozda i to se zna sta j...</td>\n",
       "      <td>andric</td>\n",
       "    </tr>\n",
       "    <tr>\n",
       "      <th>4</th>\n",
       "      <td>u srbiji kao vidan znak novih vremena i novih ...</td>\n",
       "      <td>andric</td>\n",
       "    </tr>\n",
       "  </tbody>\n",
       "</table>\n",
       "</div>"
      ],
      "text/plain": [
       "                                               tekst   pisac\n",
       "0  recnik turskih reci i provincijalizama 1 2 \n",
       "za...  andric\n",
       "1  mu duga stanka vojske su ovdje padale pa se ni...  andric\n",
       "2  dok sja nigde ne sja tako kao nad njihovim gra...  andric\n",
       "3  stranac ugledan putnik mozda i to se zna sta j...  andric\n",
       "4  u srbiji kao vidan znak novih vremena i novih ...  andric"
      ]
     },
     "execution_count": 2,
     "metadata": {},
     "output_type": "execute_result"
    }
   ],
   "source": [
    "#tf.random.set_seed(1)\n",
    "df1.head()"
   ]
  },
  {
   "cell_type": "code",
   "execution_count": 3,
   "metadata": {},
   "outputs": [
    {
     "name": "stdout",
     "output_type": "stream",
     "text": [
      "Found 51661 unique tokens. \n",
      "Data Shape: (1950, 500)\n",
      "(1950, 500) int32\n",
      "(1950, 2) uint8\n"
     ]
    }
   ],
   "source": [
    "# sece na maksimalno 500 karaktera po sample-u\n",
    "max_len = 500  \n",
    "(X_train, y_train, _, max_words) = pretprocesiraj(df1, max_len)\n"
   ]
  },
  {
   "cell_type": "code",
   "execution_count": 4,
   "metadata": {},
   "outputs": [
    {
     "name": "stdout",
     "output_type": "stream",
     "text": [
      "Model: \"sequential\"\n",
      "_________________________________________________________________\n",
      "Layer (type)                 Output Shape              Param #   \n",
      "=================================================================\n",
      "embedding (Embedding)        (None, 500, 50)           2583100   \n",
      "_________________________________________________________________\n",
      "spatial_dropout1d (SpatialDr (None, 500, 50)           0         \n",
      "_________________________________________________________________\n",
      "bidirectional (Bidirectional (None, 500, 200)          120800    \n",
      "_________________________________________________________________\n",
      "conv1d (Conv1D)              (None, 500, 128)          204928    \n",
      "_________________________________________________________________\n",
      "leaky_re_lu (LeakyReLU)      (None, 500, 128)          0         \n",
      "_________________________________________________________________\n",
      "max_pooling1d (MaxPooling1D) (None, 125, 128)          0         \n",
      "_________________________________________________________________\n",
      "dropout (Dropout)            (None, 125, 128)          0         \n",
      "_________________________________________________________________\n",
      "conv1d_1 (Conv1D)            (None, 125, 256)          262400    \n",
      "_________________________________________________________________\n",
      "leaky_re_lu_1 (LeakyReLU)    (None, 125, 256)          0         \n",
      "_________________________________________________________________\n",
      "max_pooling1d_1 (MaxPooling1 (None, 31, 256)           0         \n",
      "_________________________________________________________________\n",
      "dropout_1 (Dropout)          (None, 31, 256)           0         \n",
      "_________________________________________________________________\n",
      "conv1d_2 (Conv1D)            (None, 31, 512)           1049088   \n",
      "_________________________________________________________________\n",
      "leaky_re_lu_2 (LeakyReLU)    (None, 31, 512)           0         \n",
      "_________________________________________________________________\n",
      "max_pooling1d_2 (MaxPooling1 (None, 10, 512)           0         \n",
      "_________________________________________________________________\n",
      "dropout_2 (Dropout)          (None, 10, 512)           0         \n",
      "_________________________________________________________________\n",
      "conv1d_3 (Conv1D)            (None, 10, 512)           2097664   \n",
      "_________________________________________________________________\n",
      "leaky_re_lu_3 (LeakyReLU)    (None, 10, 512)           0         \n",
      "_________________________________________________________________\n",
      "max_pooling1d_3 (MaxPooling1 (None, 3, 512)            0         \n",
      "_________________________________________________________________\n",
      "dropout_3 (Dropout)          (None, 3, 512)            0         \n",
      "_________________________________________________________________\n",
      "global_max_pooling1d (Global (None, 512)               0         \n",
      "_________________________________________________________________\n",
      "dense (Dense)                (None, 256)               131328    \n",
      "_________________________________________________________________\n",
      "leaky_re_lu_4 (LeakyReLU)    (None, 256)               0         \n",
      "_________________________________________________________________\n",
      "dense_1 (Dense)              (None, 128)               32896     \n",
      "_________________________________________________________________\n",
      "leaky_re_lu_5 (LeakyReLU)    (None, 128)               0         \n",
      "_________________________________________________________________\n",
      "dense_2 (Dense)              (None, 2)                 258       \n",
      "=================================================================\n",
      "Total params: 6,482,462\n",
      "Trainable params: 6,482,462\n",
      "Non-trainable params: 0\n",
      "_________________________________________________________________\n"
     ]
    }
   ],
   "source": [
    "model = create_cnn_lstm_model(max_words)\n",
    "# bitan link:\n",
    "#https://github.com/ahmedbahaaeldin/Topic-Detection-in-arabic/blob/master/Topic_Dectection_Project.ipynb"
   ]
  },
  {
   "cell_type": "code",
   "execution_count": 5,
   "metadata": {},
   "outputs": [
    {
     "name": "stdout",
     "output_type": "stream",
     "text": [
      "Epoch 1/20\n",
      "25/25 [==============================] - 23s 907ms/step - loss: 0.3480 - acc: 0.8077 - val_loss: 0.1756 - val_acc: 0.9769\n",
      "Epoch 2/20\n",
      "25/25 [==============================] - 21s 832ms/step - loss: 0.0632 - acc: 0.9923 - val_loss: 0.2470 - val_acc: 1.0000\n",
      "Epoch 3/20\n",
      "25/25 [==============================] - 21s 832ms/step - loss: 0.0049 - acc: 0.9994 - val_loss: 0.0047 - val_acc: 1.0000\n",
      "Epoch 4/20\n",
      "25/25 [==============================] - 20s 809ms/step - loss: 2.0673e-04 - acc: 1.0000 - val_loss: 0.0020 - val_acc: 1.0000\n",
      "Epoch 5/20\n",
      "25/25 [==============================] - 20s 796ms/step - loss: 3.4330e-06 - acc: 1.0000 - val_loss: 8.0725e-04 - val_acc: 1.0000\n",
      "Epoch 6/20\n",
      "25/25 [==============================] - 20s 804ms/step - loss: 1.5044e-06 - acc: 1.0000 - val_loss: 7.0094e-04 - val_acc: 1.0000\n"
     ]
    }
   ],
   "source": [
    "early_stop = keras.callbacks.EarlyStopping(monitor='acc',\n",
    "                              min_delta=0,\n",
    "                              patience=2,\n",
    "                              verbose=0, mode='auto')\n",
    "history = model.fit(X_train, y_train, validation_split = 0.2, epochs=20, batch_size=64, \n",
    "                    callbacks=[early_stop])"
   ]
  },
  {
   "cell_type": "code",
   "execution_count": 6,
   "metadata": {},
   "outputs": [
    {
     "data": {
      "image/png": "[encoded data removed]",
      "text/plain": [
       "<Figure size 432x288 with 1 Axes>"
      ]
     },
     "metadata": {
      "needs_background": "light"
     },
     "output_type": "display_data"
    }
   ],
   "source": [
    "plt.plot(history.history['acc'])\n",
    "plt.plot(history.history['val_acc'])\n",
    "plt.title('model accuracy')\n",
    "plt.ylabel('accuracy')\n",
    "plt.xlabel('epoch')\n",
    "plt.legend(['train', 'validation'])\n",
    "plt.show()"
   ]
  },
  {
   "cell_type": "code",
   "execution_count": 7,
   "metadata": {},
   "outputs": [
    {
     "name": "stdout",
     "output_type": "stream",
     "text": [
      "Model: \"sequential_1\"\n",
      "_________________________________________________________________\n",
      "Layer (type)                 Output Shape              Param #   \n",
      "=================================================================\n",
      "embedding_1 (Embedding)      (None, 500, 50)           2583100   \n",
      "_________________________________________________________________\n",
      "spatial_dropout1d_1 (Spatial (None, 500, 50)           0         \n",
      "_________________________________________________________________\n",
      "bidirectional_1 (Bidirection (None, 500, 200)          120800    \n",
      "_________________________________________________________________\n",
      "conv1d_4 (Conv1D)            (None, 500, 128)          204928    \n",
      "_________________________________________________________________\n",
      "leaky_re_lu_6 (LeakyReLU)    (None, 500, 128)          0         \n",
      "_________________________________________________________________\n",
      "max_pooling1d_4 (MaxPooling1 (None, 125, 128)          0         \n",
      "_________________________________________________________________\n",
      "dropout_4 (Dropout)          (None, 125, 128)          0         \n",
      "_________________________________________________________________\n",
      "conv1d_5 (Conv1D)            (None, 125, 256)          262400    \n",
      "_________________________________________________________________\n",
      "leaky_re_lu_7 (LeakyReLU)    (None, 125, 256)          0         \n",
      "_________________________________________________________________\n",
      "max_pooling1d_5 (MaxPooling1 (None, 31, 256)           0         \n",
      "_________________________________________________________________\n",
      "dropout_5 (Dropout)          (None, 31, 256)           0         \n",
      "_________________________________________________________________\n",
      "conv1d_6 (Conv1D)            (None, 31, 512)           1049088   \n",
      "_________________________________________________________________\n",
      "leaky_re_lu_8 (LeakyReLU)    (None, 31, 512)           0         \n",
      "_________________________________________________________________\n",
      "max_pooling1d_6 (MaxPooling1 (None, 10, 512)           0         \n",
      "_________________________________________________________________\n",
      "dropout_6 (Dropout)          (None, 10, 512)           0         \n",
      "_________________________________________________________________\n",
      "conv1d_7 (Conv1D)            (None, 10, 512)           2097664   \n",
      "_________________________________________________________________\n",
      "leaky_re_lu_9 (LeakyReLU)    (None, 10, 512)           0         \n",
      "_________________________________________________________________\n",
      "max_pooling1d_7 (MaxPooling1 (None, 3, 512)            0         \n",
      "_________________________________________________________________\n",
      "dropout_7 (Dropout)          (None, 3, 512)            0         \n",
      "_________________________________________________________________\n",
      "global_max_pooling1d_1 (Glob (None, 512)               0         \n",
      "_________________________________________________________________\n",
      "dense_3 (Dense)              (None, 256)               131328    \n",
      "_________________________________________________________________\n",
      "leaky_re_lu_10 (LeakyReLU)   (None, 256)               0         \n",
      "_________________________________________________________________\n",
      "dense_4 (Dense)              (None, 128)               32896     \n",
      "_________________________________________________________________\n",
      "leaky_re_lu_11 (LeakyReLU)   (None, 128)               0         \n",
      "_________________________________________________________________\n",
      "dense_5 (Dense)              (None, 2)                 258       \n",
      "=================================================================\n",
      "Total params: 6,482,462\n",
      "Trainable params: 6,482,462\n",
      "Non-trainable params: 0\n",
      "_________________________________________________________________\n",
      "Epoch 1/4\n",
      "31/31 [==============================] - 25s 793ms/step - loss: 0.4422 - acc: 0.7477\n",
      "Epoch 2/4\n",
      "31/31 [==============================] - 25s 819ms/step - loss: 0.0168 - acc: 0.9969\n",
      "Epoch 3/4\n",
      "31/31 [==============================] - 26s 823ms/step - loss: 0.0015 - acc: 0.9995\n",
      "Epoch 4/4\n",
      "31/31 [==============================] - 25s 791ms/step - loss: 0.0754 - acc: 0.9995\n"
     ]
    }
   ],
   "source": [
    "model = create_cnn_lstm_model(max_words)\n",
    "history = model.fit(X_train, y_train,epochs=4, batch_size=64)"
   ]
  },
  {
   "cell_type": "code",
   "execution_count": 8,
   "metadata": {},
   "outputs": [
    {
     "data": {
      "text/html": [
       "<div>\n",
       "<style scoped>\n",
       "    .dataframe tbody tr th:only-of-type {\n",
       "        vertical-align: middle;\n",
       "    }\n",
       "\n",
       "    .dataframe tbody tr th {\n",
       "        vertical-align: top;\n",
       "    }\n",
       "\n",
       "    .dataframe thead th {\n",
       "        text-align: right;\n",
       "    }\n",
       "</style>\n",
       "<table border=\"1\" class=\"dataframe\">\n",
       "  <thead>\n",
       "    <tr style=\"text-align: right;\">\n",
       "      <th></th>\n",
       "      <th>loss</th>\n",
       "      <th>acc</th>\n",
       "      <th>epoch</th>\n",
       "    </tr>\n",
       "  </thead>\n",
       "  <tbody>\n",
       "    <tr>\n",
       "      <th>0</th>\n",
       "      <td>0.442159</td>\n",
       "      <td>0.747692</td>\n",
       "      <td>0</td>\n",
       "    </tr>\n",
       "    <tr>\n",
       "      <th>1</th>\n",
       "      <td>0.016824</td>\n",
       "      <td>0.996923</td>\n",
       "      <td>1</td>\n",
       "    </tr>\n",
       "    <tr>\n",
       "      <th>2</th>\n",
       "      <td>0.001526</td>\n",
       "      <td>0.999487</td>\n",
       "      <td>2</td>\n",
       "    </tr>\n",
       "    <tr>\n",
       "      <th>3</th>\n",
       "      <td>0.075372</td>\n",
       "      <td>0.999487</td>\n",
       "      <td>3</td>\n",
       "    </tr>\n",
       "  </tbody>\n",
       "</table>\n",
       "</div>"
      ],
      "text/plain": [
       "       loss       acc  epoch\n",
       "0  0.442159  0.747692      0\n",
       "1  0.016824  0.996923      1\n",
       "2  0.001526  0.999487      2\n",
       "3  0.075372  0.999487      3"
      ]
     },
     "execution_count": 8,
     "metadata": {},
     "output_type": "execute_result"
    }
   ],
   "source": [
    "hist = pd.DataFrame(history.history)\n",
    "hist['epoch'] = history.epoch\n",
    "\n",
    "# Uzimamo poslednjih 5 vrsti\n",
    "hist.tail()"
   ]
  },
  {
   "cell_type": "code",
   "execution_count": 9,
   "metadata": {},
   "outputs": [
    {
     "name": "stdout",
     "output_type": "stream",
     "text": [
      "Found 19855 unique tokens. \n",
      "Data Shape: (199, 500)\n",
      "(199, 500) int32\n",
      "(199, 2) uint8\n"
     ]
    }
   ],
   "source": [
    "df1 = pd.read_csv(\"test.csv\")\n",
    "df1.rename(columns={ '0':'tekst', '1':'pisac'}, \n",
    "                 inplace=True)\n",
    "\n",
    "(X_test, y_test, kolone, word_index) = pretprocesiraj(df1, max_len)\n",
    "max_words = len(word_index)\n",
    "\n"
   ]
  },
  {
   "cell_type": "code",
   "execution_count": 10,
   "metadata": {},
   "outputs": [
    {
     "name": "stdout",
     "output_type": "stream",
     "text": [
      "Preciznost: 0.853\n",
      "Recall skor: 0.646\n",
      "F1: 0.736\n",
      "\n",
      "\n",
      "MATRICA KOFUZIJE\n",
      "[[89 11]\n",
      " [35 64]]\n",
      "\n",
      "\n",
      " Neki promaseni pasusi: \n",
      "\n",
      "\n",
      "iz vecernjih secanja 142 ispustila je carapu protrljala ozeble ruke i naglo ustala od prozora bio je potpun mrak u sobi mora da je dockan sva kruta od studeni tesko se resavala da li da prvo upali svetlost pa da onda podstakne vatru ili obrnuto tako je neodlucna stajala jedno vreme u mraku nasred sobe a onda se resi sa srecnim osmejkom da odlozi oba ta nemila posla bar za koji trenutak i da umesto toga pregleda jos jednom da li su sva vrata zaista zakljucana koracala je malo nesigurno jos uvek zanesena mnogim secanjima koja su veceras na nju navalila kao nikad u potpunoj tami u slatkoj tami koja je isto sto i stednja dakle isto sto i novac izisla je u predsoblje pipajuci naviklim pokretima znane predmete ali pre nego sto je dosla do kucnih vrata naidje u tami ispruzenom rukom na nekog ote joj se kratak i promukao vrisak takav da se i sama uplasi od njega sva pretrnu i nadje samo toliko snage da ustukne malo natrag dotaknuvsi se neocekivano vlaznog grubog sukna ona je sva jos zbunjena i rasejana od mnogih secanja bila uverena da pred njom \f",
      "stoji neko ko je sad usao spolja htela je jos da vice da doziva ali glasa nije bilo srce joj poraste i ispuni je celu oseti zatim kako se sva odjednom isprazni i rasu u hladne trnce od svega ostade samo strasna pomisao da nije sama da tu u mraku stoji onaj sto neznan i nevidljiv celog zivota vreba ovakve kao sto je ona onaj sto pre ili posle dolazi po novac hiljadu puta je ovako pretrnula u mraku od pomisli na njega i hiljadu puta se njen strah pokazao kao neosnovan ovoga puta je cini joj se zaista dosao i tu stoji nasred predsoblja u vlaznom kaputu spreman svakog trena da otpocne svoj razbojnicki posao ali upravo ovoga puta ona ne zna sta treba da radi kako da se brani i zastiti u jednoj misli kracoj od munje nastoji da se seti sta bi trebalo da ucini ali ne uspeva a seca se dobro da je vazda strahovala od kradje i razbojnika bezbroj puta se trzala u noci od sumnjivog zvuka ili cudne senke i posle dugo razmisljala sta bi radila da joj se neko i pored svih njenih mera uvuce u kucu i napadne je otkako zna za sebe sve je cinila da svoj novac ostavi na sigurno mesto da ga sakrije i obezbedi da zametne trag celog zivota nije nista drugo ni mislila ni radila tako da joj se zivot najposle sastojao samo iz tih mera predostroznosti seca se ali ovo sto se desava u ovom trenutku tako je neocekivano strasno i novo kao da nikad nije strahovala ni predvidjala nikad nista ucinila da se osigura i zastiti cini joj se da je vek provela u neoprostivoj i nerazumljivoj lakomislenosti i nebrizi ne predvidevsi i ne preduzimajuci nista i da sada gubi evo i novac i zivot ludo zalosno nepotrebno samo zbog svoje rodjene maloumnosti\n",
      "Promasen pisac: selimovic\n",
      "Tacan pisac: andric\n",
      "\n",
      "\n",
      "negde u sredistu varosi klice i urla nekome u slavu i za neciju propast i mrak je padao mrak pun sparine neobicnih zvukova i svecanog i stravicnog predosecanja velikih i sudbonosnih dogadjaja svetlosti su svuda po varosi planule a dve zene su sluktile pored prozora sedeci blize jedna drugoj nego inace kao da nesto cekaju majka je uzdisala glasno sto je od zena uvek uvod u zalostan razgovor gospodjicu je to ljutilo njoj je bila neprijatna i pomisao na neki razgovor idi ti pa lezi govorila je oporo majci nista nece biti ne boj se ne znam sinko sta ce biti ali znam da nije dobro kad ta njihova velika gospoda ginu lezi ti pa spavaj mama nista se to nas ne tice i govoreci to osluskivala je glasove iz mracne daljine kao da i sama proverava tacnost svojih reci ah tice sinko jos kako opet ce biti po jadnim srbima gospodjica nije odgovarala i razgovor je zapinjao dugo su jos dve zene osluskivale u tu noc koja je kad je prestala zvonjava i umuknule one manifestacije bila mnogo tisa od ranijih jer niotkud nije bilo ni najmanjeg zvuka pesme ili svirke koje inace obicno dugo odjekuju u letnjim nocima svuda se prostirala tisina koju silni i mocni ovoga sveta umiruci namecu jos za jedno vreme sirem ili uzem 56 krugu onih koji ostaju da zive najposle obe zene odose da legnu majka je bdila u tami i brinula svoju nemocnu udovicku brigu strahujuci ne samo za svoje jadne srbe nego pomalo za ceo svet ali necujno bez suma i pokreta kao sto je sve u zivotu radila i podnosila a kci je citala jedno vreme neki nemacki putopis putopisi su jedine knjige koje ona kupuje i redovno cita i u kojima trazi i nalazi nesto sto je u neodredjenoj ali jakoj vezi sa njenim zivotom narocito ako su ti putopisi o nepoznatim kontinentima i otkricima skrivenih blaga i novih trzista \f",
      "zatim je ugasila svetlost i zaspala probudila se pre svitanja sveza hladna i odmorna a budna kao da nikad nije ni spavala lezeci u postelji stisnutih usana i sastavljenih obrva gledala je ostro u tamu koja je oko prozora pocinjala da se tanji i da bledi budjenje u zoru oduvek je bila navikla da u to vreme resava sva pitanja za koja ni dan ni noc nisu mogli da nadju resenja sad je trenutak da se razracuna i sa ovim strahom koji je rafo uneo u njihovu kucu ovako u praskozorje covek je kao preporodjen duh mu je pronicljiv kao nov a bogat iskustvima sav svet ukoliko je ona mogla da sagleda i shvati i onakav kakav je ona robujuci svome snu mogla da ga vidi stajao je pred njom i odredjivao njeno drzanje u svemu i prema svacemu osecala je blizinu jedne krize u kojoj se tesko stice i zaradjuje a lako stetuje i bunila se protiv toga celom snagom svoga bica upucenom od najranijih godina samo u jednom pravcu sta se desilo ubistvo prestolonaslednika nesumnjivo veliki potres\n",
      "Promasen pisac: selimovic\n",
      "Tacan pisac: andric\n",
      "\n",
      "\n",
      "predmeta na predmet sta se dogodilo kako vi ne znate vi ne znate aaa nesreca se dogodila gospojica nesreca za sav svijet atentat ubili su i nadvojvodu i nadvojvodinicu gospoju od nadvojvode i jos neki ljudi govorio je uzbudjeno a ruke su mu drhtale i u ocima se odrazavao strah od samih reci pa ko ih je ubio kako kada ah srpsko momce neko ðaci studenti gospojica ubili tu na keju kod latinske cuprije obadvoje da bog sacuva da bog sacuva uzdisao je rafo nastade trenutak cutanja nego dosao sam da vam kazem gospojica da pazite da ne dolazite u carsiju da se cuvate sa gospojom mamom jer nije dobro ovo sto se sprema pa nas smo dvije zenske glave gazdarafo zaboga sta ce nama ko mi s tim stvarima posla nemamo vi bar znate rafo nestrpljivo odmahnu glavom znam da nemate ali vidite sta se trefi velika je stvar tronfolger svasta se po gradu govori da bog sacuva i rafo se nagnu blize i uplaseno sapatom dodade digla se svjetina da pali i pljacka katolicki pop drz'o govor kazu sve ce srpske ducane porusiti u carsiji i kucama prijete sacuvaj boze tako govore meni je zao vas i gospoje i dosao sam da vam to kazem najbolje gospojica sjedite kod kuce i da se ne vidjamo dok ovaj kijamet ne predje znate sjedite i sutite sutite poslacu momka da vas obidje ako vam sto treba tako se rafo i oprosti sa strahom u ocima i prstom na ustima 55 \f",
      "tek kad ostade sama gospodjica oseti neku nelagodnost ne kazujuci nista majci pridje prozoru i baci pogled na drugu obalu miljacke sve je bilo na svom mestu kao i uvek sveta ni manje ni vise nego obicno nedeljom u to doba dana ali njoj je sada ceo taj kraj izgledao izmenjen i nov straha i neizvesnosti je bilo u vazduhu i na predelu iako ona ne bi umela kazati gde to i kako svako je praznicko poslepodne duze nego radnog dana ali ovo je bilo neobicno dugo a kad sunce zadje topeci se samo u svom ognju za drvecem ispod huma gospodjica ne dade da se pali svetlost u kuci sedela je sa majkom pored otvorenog prozora dah vrelog dana sa finom prasinom ispunjavao je jos vazduh na crkvama su zvonila zvona muklim pogrebnim zvukom sve ih je nadbijalo veliko zvono sa katolicke katedrale svojim ostrim i prodirnim glasom kao da je gvozdeno sad je morala da kaze majci sta se desilo i sta preti srpskim kucama i radnjama laka na suzi stara gospodja zaplaka kao sto bi plakala zbog svake druge i mnogo manje stvari gospodjica je tesila kratko i rasejano ali ona je plakala i dalje zvona su gudila iz daljine sa banjskog brijega i od konaka a u kratkim intervalima cula se otegnuta i neobicna jeka koju su vracala strma brda oko sarajeva kao ocekivani odgovor na tu metalnu muziku smrti i uzbune u sve to upadaju s vremena na vreme slozni i ujednaceni glasovi gomile koja\n",
      "Promasen pisac: selimovic\n",
      "Tacan pisac: andric\n",
      "\n",
      "\n"
     ]
    }
   ],
   "source": [
    "evaluacija_binarna_klasifikacija(X_test, y_test, model, kolone, word_index)"
   ]
  },
  {
   "cell_type": "markdown",
   "metadata": {},
   "source": [
    "#REFERENCA: https://medium.com/@romannempyre/sentiment-analysis-using-1d-convolutional-neural-networks-part-1-f8b6316489a2"
   ]
  }
 ],
 "metadata": {
  "kernelspec": {
   "display_name": "Python 3",
   "language": "python",
   "name": "python3"
  },
  "language_info": {
   "codemirror_mode": {
    "name": "ipython",
    "version": 3
   },
   "file_extension": ".py",
   "mimetype": "text/x-python",
   "name": "python",
   "nbconvert_exporter": "python",
   "pygments_lexer": "ipython3",
   "version": "3.6.9"
  }
 },
 "nbformat": 4,
 "nbformat_minor": 4
}
