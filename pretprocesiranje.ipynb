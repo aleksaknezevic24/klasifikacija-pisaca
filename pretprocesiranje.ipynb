{
 "cells": [
  {
   "cell_type": "code",
   "execution_count": 1,
   "metadata": {},
   "outputs": [
    {
     "name": "stderr",
     "output_type": "stream",
     "text": [
      "Using TensorFlow backend.\n"
     ]
    }
   ],
   "source": [
    "import tensorflow as tf\n",
    "from tensorflow import keras\n",
    "from tensorflow.keras import layers\n",
    "from tensorflow.keras import Model\n",
    "from sklearn.preprocessing import LabelBinarizer\n",
    "from keras.preprocessing.sequence import pad_sequences\n",
    "from keras.preprocessing.text import Tokenizer\n",
    "from sklearn.preprocessing import OneHotEncoder\n",
    "from sklearn.metrics import precision_score\n",
    "from sklearn.metrics import f1_score\n",
    "from sklearn.metrics import recall_score\n",
    "from sklearn.metrics import confusion_matrix\n",
    "import pandas as pd\n",
    "import numpy as np\n",
    "import matplotlib.pyplot as plt\n",
    "import glob\n"
   ]
  },
  {
   "cell_type": "code",
   "execution_count": null,
   "metadata": {},
   "outputs": [],
   "source": [
    "\n",
    "def pretprocesiraj(df1, max_len):\n",
    "    lista = df1['tekst'].to_list()\n",
    "\n",
    "    # import tokenizer, gleda se samo prvih n reci\n",
    "    tokenizer = Tokenizer() \n",
    "    # fitujemo tokenizer na listu tekstova\n",
    "    tokenizer.fit_on_texts(lista) \n",
    "    # konvertujemo tekst u sekvence\n",
    "    sekvence = tokenizer.texts_to_sequences(lista) \n",
    "\n",
    "    word_index = tokenizer.word_index\n",
    "    print('Found %s unique tokens. ' % len(word_index))\n",
    "\n",
    "     # pravimo array sekvenci sa maksimalnom duzinom 500 \n",
    "    data = pad_sequences(sekvence, maxlen=max_len)\n",
    "    print('Data Shape: {}'.format(data.shape))\n",
    "    pisac_enkoder = OneHotEncoder()\n",
    "    #ubacujemo data u promenjivu X\n",
    "    kolone = ['andric', 'selimovic']\n",
    "    \n",
    "\n",
    "    #binarizujemo pisce, koji su kategoricki nominalni tip\n",
    "    y = pd.get_dummies(df1['pisac'])\n",
    "    #uzimamo nazive kolona kako bismo posle mogli da vratimo prezimena pisaca\n",
    "    y = y.T.reindex(kolone).T.fillna(0)\n",
    "\n",
    "    #print(kolone)\n",
    "    X = np.array(data)\n",
    "    y = y.to_numpy()\n",
    "\n",
    "    #printamo shape od X i y\n",
    "    print(X.shape, X.dtype)\n",
    "    print(y.shape, y.dtype)\n",
    "    X_train = X\n",
    "    y_train = y\n",
    "    return (X_train, y_train, kolone, word_index)"
   ]
  }
 ],
 "metadata": {
  "kernelspec": {
   "display_name": "Python 3",
   "language": "python",
   "name": "python3"
  },
  "language_info": {
   "codemirror_mode": {
    "name": "ipython",
    "version": 3
   },
   "file_extension": ".py",
   "mimetype": "text/x-python",
   "name": "python",
   "nbconvert_exporter": "python",
   "pygments_lexer": "ipython3",
   "version": "3.6.9"
  }
 },
 "nbformat": 4,
 "nbformat_minor": 4
}
