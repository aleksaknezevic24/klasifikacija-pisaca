{
 "cells": [
  {
   "cell_type": "code",
   "execution_count": 1,
   "metadata": {},
   "outputs": [
    {
     "name": "stderr",
     "output_type": "stream",
     "text": [
      "Using TensorFlow backend.\n"
     ]
    }
   ],
   "source": [
    "import tensorflow as tf\n",
    "from tensorflow import keras\n",
    "from tensorflow.keras import layers\n",
    "from tensorflow.keras import Model\n",
    "from sklearn.preprocessing import LabelBinarizer\n",
    "from keras.preprocessing.sequence import pad_sequences\n",
    "from keras.preprocessing.text import Tokenizer\n",
    "from sklearn.preprocessing import OneHotEncoder\n",
    "from sklearn.metrics import precision_score\n",
    "from sklearn.metrics import f1_score\n",
    "from sklearn.metrics import recall_score\n",
    "from sklearn.metrics import confusion_matrix\n",
    "import pandas as pd\n",
    "import numpy as np\n",
    "import matplotlib.pyplot as plt\n",
    "import glob\n"
   ]
  },
  {
   "cell_type": "code",
   "execution_count": null,
   "metadata": {},
   "outputs": [],
   "source": [
    "rekonstruisan_model = keras.models.load_model(\"model_pisci.h5\")\n",
    "\n",
    "df1 = pd.read_csv(\"test.csv\")\n",
    "df1.rename(columns={ '0':'tekst', '1':'pisac'}, \n",
    "                 inplace=True)\n",
    "\n",
    "#funkcija sample sluzi za nasumicno mesanje samplova  \n",
    "df1 = df1.sample(frac=1)\n",
    "df1.size"
   ]
  },
  {
   "cell_type": "code",
   "execution_count": null,
   "metadata": {},
   "outputs": [],
   "source": [
    "# sece na maksimalno 500 karaktera po sample-u\n",
    "max_len = 500 \n",
    "# razmatra prvih 10 000 reci\n",
    "max_words = 10000 \n",
    "\n",
    "lista = df1['tekst'].to_list()\n",
    "\n",
    "# import tokenizer, gleda se samo prvih 10 000 reci\n",
    "tokenizer = Tokenizer(num_words=max_words) \n",
    "# fitujemo tokenizer na listu tekstova\n",
    "tokenizer.fit_on_texts(lista) \n",
    "# konvertujemo tekst u sekvence\n",
    "sekvence = tokenizer.texts_to_sequences(lista) \n",
    "\n",
    "word_index = tokenizer.word_index\n",
    "print('Found %s unique tokens. ' % len(word_index))\n",
    "\n",
    " # pravimo array sekvenci sa maksimalnom duzinom 500 \n",
    "data = pad_sequences(sekvence, maxlen=max_len)\n",
    "print('Data Shape: {}'.format(data.shape))\n"
   ]
  },
  {
   "cell_type": "code",
   "execution_count": null,
   "metadata": {},
   "outputs": [],
   "source": [
    "pisac_enkoder = OneHotEncoder()\n",
    "#ubacujemo data u promenjivu X\n",
    "X = np.array(data)\n",
    "\n",
    "#binarizujemo pisce, koji su kategoricki nominalni tip\n",
    "y = pd.get_dummies(df1['pisac'])\n",
    "#uzimamo nazive kolona kako bismo posle mogli da vratimo prezimena pisaca\n",
    "kolone = list(y.columns.values)\n",
    "#print(kolone)\n",
    "\n",
    "y = y.to_numpy()"
   ]
  },
  {
   "cell_type": "code",
   "execution_count": null,
   "metadata": {},
   "outputs": [],
   "source": [
    "early_stop = keras.callbacks.EarlyStopping(monitor='acc', patience=3)\n",
    "history = rekonstruisan_model.fit(X_train, y_train, epochs=50, batch_size=128, \n",
    "                    callbacks=[early_stop])"
   ]
  }
 ],
 "metadata": {
  "kernelspec": {
   "display_name": "Python 3",
   "language": "python",
   "name": "python3"
  },
  "language_info": {
   "codemirror_mode": {
    "name": "ipython",
    "version": 3
   },
   "file_extension": ".py",
   "mimetype": "text/x-python",
   "name": "python",
   "nbconvert_exporter": "python",
   "pygments_lexer": "ipython3",
   "version": "3.6.9"
  }
 },
 "nbformat": 4,
 "nbformat_minor": 4
}
