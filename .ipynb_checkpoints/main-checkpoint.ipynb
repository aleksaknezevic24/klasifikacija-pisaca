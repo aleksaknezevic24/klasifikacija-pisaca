{
 "cells": [
  {
   "cell_type": "code",
   "execution_count": 1,
   "metadata": {},
   "outputs": [
    {
     "name": "stderr",
     "output_type": "stream",
     "text": [
      "Using TensorFlow backend.\n"
     ]
    }
   ],
   "source": [
    "import tensorflow as tf\n",
    "from tensorflow import keras\n",
    "from tensorflow.keras import layers\n",
    "from tensorflow.keras.layers import LeakyReLU\n",
    "from tensorflow.keras.layers import Embedding, concatenate\n",
    "from tensorflow.keras.layers import Conv1D\n",
    "from tensorflow.keras.layers import MaxPooling1D\n",
    "from tensorflow.keras.layers import Dropout\n",
    "from tensorflow.keras.layers import Flatten\n",
    "from tensorflow.keras.layers import Input\n",
    "from tensorflow.keras.layers import Dense, SpatialDropout1D\n",
    "from tensorflow.keras.layers import Bidirectional\n",
    "from tensorflow.keras.layers import LSTM\n",
    "from tensorflow.keras.layers import GRU\n",
    "from tensorflow.keras import Model\n",
    "from tensorflow.keras.layers import GlobalMaxPooling1D, GlobalAveragePooling1D\n",
    "from tensorflow.keras.optimizers import Adam\n",
    "from sklearn.model_selection import train_test_split\n",
    "from sklearn.preprocessing import LabelBinarizer\n",
    "from keras.preprocessing.sequence import pad_sequences\n",
    "from keras.preprocessing.text import Tokenizer\n",
    "from sklearn.preprocessing import OneHotEncoder\n",
    "from sklearn.metrics import precision_score\n",
    "from sklearn.metrics import f1_score\n",
    "from sklearn.metrics import recall_score\n",
    "from sklearn.metrics import confusion_matrix\n",
    "import sklearn.metrics as skm\n",
    "import pandas as pd\n",
    "import numpy as np\n",
    "import matplotlib.pyplot as plt\n",
    "import glob\n",
    "\n",
    "%run pretprocesiranje.ipynb\n",
    "%run model.ipynb\n",
    "%run evaluacija.ipynb\n",
    "\n",
    "df1 = pd.read_csv(\"trening.csv\")\n",
    "df1.rename(columns={ '0':'tekst', '1':'pisac'}, \n",
    "                 inplace=True)\n",
    "\n",
    "#funkcija sample sluzi za nasumicno mesanje samplova  \n",
    "#df1 = df1.sample(frac=1)\n",
    "df1.size\n",
    "df1.reset_index(drop=True, inplace=True)"
   ]
  },
  {
   "cell_type": "code",
   "execution_count": 2,
   "metadata": {},
   "outputs": [
    {
     "data": {
      "text/html": [
       "<div>\n",
       "<style scoped>\n",
       "    .dataframe tbody tr th:only-of-type {\n",
       "        vertical-align: middle;\n",
       "    }\n",
       "\n",
       "    .dataframe tbody tr th {\n",
       "        vertical-align: top;\n",
       "    }\n",
       "\n",
       "    .dataframe thead th {\n",
       "        text-align: right;\n",
       "    }\n",
       "</style>\n",
       "<table border=\"1\" class=\"dataframe\">\n",
       "  <thead>\n",
       "    <tr style=\"text-align: right;\">\n",
       "      <th></th>\n",
       "      <th>tekst</th>\n",
       "      <th>pisac</th>\n",
       "    </tr>\n",
       "  </thead>\n",
       "  <tbody>\n",
       "    <tr>\n",
       "      <th>0</th>\n",
       "      <td>recnik turskih reci i provincijalizama 1 2 \f",
       "za...</td>\n",
       "      <td>andric</td>\n",
       "    </tr>\n",
       "    <tr>\n",
       "      <th>1</th>\n",
       "      <td>mu duga stanka vojske su ovdje padale pa se ni...</td>\n",
       "      <td>andric</td>\n",
       "    </tr>\n",
       "    <tr>\n",
       "      <th>2</th>\n",
       "      <td>dok sja nigde ne sja tako kao nad njihovim gra...</td>\n",
       "      <td>andric</td>\n",
       "    </tr>\n",
       "    <tr>\n",
       "      <th>3</th>\n",
       "      <td>stranac ugledan putnik mozda i to se zna sta j...</td>\n",
       "      <td>andric</td>\n",
       "    </tr>\n",
       "    <tr>\n",
       "      <th>4</th>\n",
       "      <td>u srbiji kao vidan znak novih vremena i novih ...</td>\n",
       "      <td>andric</td>\n",
       "    </tr>\n",
       "  </tbody>\n",
       "</table>\n",
       "</div>"
      ],
      "text/plain": [
       "                                               tekst   pisac\n",
       "0  recnik turskih reci i provincijalizama 1 2 \n",
       "za...  andric\n",
       "1  mu duga stanka vojske su ovdje padale pa se ni...  andric\n",
       "2  dok sja nigde ne sja tako kao nad njihovim gra...  andric\n",
       "3  stranac ugledan putnik mozda i to se zna sta j...  andric\n",
       "4  u srbiji kao vidan znak novih vremena i novih ...  andric"
      ]
     },
     "execution_count": 2,
     "metadata": {},
     "output_type": "execute_result"
    }
   ],
   "source": [
    "#tf.random.set_seed(1)\n",
    "df1.head()"
   ]
  },
  {
   "cell_type": "code",
   "execution_count": 3,
   "metadata": {},
   "outputs": [
    {
     "name": "stdout",
     "output_type": "stream",
     "text": [
      "Found 51661 unique tokens. \n",
      "Data Shape: (1950, 500)\n",
      "(1950, 500) int32\n",
      "(1950, 2) uint8\n"
     ]
    }
   ],
   "source": [
    "# sece na maksimalno 500 karaktera po sample-u\n",
    "max_len = 500  \n",
    "(X_train, y_train, _, max_words) = pretprocesiraj(df1, max_len)\n"
   ]
  },
  {
   "cell_type": "code",
   "execution_count": 4,
   "metadata": {},
   "outputs": [
    {
     "name": "stdout",
     "output_type": "stream",
     "text": [
      "Model: \"sequential\"\n",
      "_________________________________________________________________\n",
      "Layer (type)                 Output Shape              Param #   \n",
      "=================================================================\n",
      "embedding (Embedding)        (None, 500, 50)           2583100   \n",
      "_________________________________________________________________\n",
      "spatial_dropout1d (SpatialDr (None, 500, 50)           0         \n",
      "_________________________________________________________________\n",
      "bidirectional (Bidirectional (None, 500, 200)          120800    \n",
      "_________________________________________________________________\n",
      "conv1d (Conv1D)              (None, 500, 128)          204928    \n",
      "_________________________________________________________________\n",
      "leaky_re_lu (LeakyReLU)      (None, 500, 128)          0         \n",
      "_________________________________________________________________\n",
      "max_pooling1d (MaxPooling1D) (None, 125, 128)          0         \n",
      "_________________________________________________________________\n",
      "dropout (Dropout)            (None, 125, 128)          0         \n",
      "_________________________________________________________________\n",
      "conv1d_1 (Conv1D)            (None, 125, 256)          262400    \n",
      "_________________________________________________________________\n",
      "leaky_re_lu_1 (LeakyReLU)    (None, 125, 256)          0         \n",
      "_________________________________________________________________\n",
      "max_pooling1d_1 (MaxPooling1 (None, 31, 256)           0         \n",
      "_________________________________________________________________\n",
      "dropout_1 (Dropout)          (None, 31, 256)           0         \n",
      "_________________________________________________________________\n",
      "conv1d_2 (Conv1D)            (None, 31, 512)           1049088   \n",
      "_________________________________________________________________\n",
      "leaky_re_lu_2 (LeakyReLU)    (None, 31, 512)           0         \n",
      "_________________________________________________________________\n",
      "max_pooling1d_2 (MaxPooling1 (None, 10, 512)           0         \n",
      "_________________________________________________________________\n",
      "dropout_2 (Dropout)          (None, 10, 512)           0         \n",
      "_________________________________________________________________\n",
      "conv1d_3 (Conv1D)            (None, 10, 512)           2097664   \n",
      "_________________________________________________________________\n",
      "leaky_re_lu_3 (LeakyReLU)    (None, 10, 512)           0         \n",
      "_________________________________________________________________\n",
      "max_pooling1d_3 (MaxPooling1 (None, 3, 512)            0         \n",
      "_________________________________________________________________\n",
      "dropout_3 (Dropout)          (None, 3, 512)            0         \n",
      "_________________________________________________________________\n",
      "global_max_pooling1d (Global (None, 512)               0         \n",
      "_________________________________________________________________\n",
      "dense (Dense)                (None, 256)               131328    \n",
      "_________________________________________________________________\n",
      "leaky_re_lu_4 (LeakyReLU)    (None, 256)               0         \n",
      "_________________________________________________________________\n",
      "dense_1 (Dense)              (None, 128)               32896     \n",
      "_________________________________________________________________\n",
      "leaky_re_lu_5 (LeakyReLU)    (None, 128)               0         \n",
      "_________________________________________________________________\n",
      "dense_2 (Dense)              (None, 2)                 258       \n",
      "=================================================================\n",
      "Total params: 6,482,462\n",
      "Trainable params: 6,482,462\n",
      "Non-trainable params: 0\n",
      "_________________________________________________________________\n"
     ]
    }
   ],
   "source": [
    "model = create_cnn_lstm_model(max_words)\n",
    "# bitan link:\n",
    "#https://github.com/ahmedbahaaeldin/Topic-Detection-in-arabic/blob/master/Topic_Dectection_Project.ipynb"
   ]
  },
  {
   "cell_type": "code",
   "execution_count": 5,
   "metadata": {},
   "outputs": [
    {
     "name": "stdout",
     "output_type": "stream",
     "text": [
      "Epoch 1/20\n",
      "25/25 [==============================] - 24s 966ms/step - loss: 0.5684 - acc: 0.6904 - val_loss: 0.0241 - val_acc: 1.0000\n",
      "Epoch 2/20\n",
      "25/25 [==============================] - 22s 893ms/step - loss: 0.1084 - acc: 0.9942 - val_loss: 9.8218e-04 - val_acc: 1.0000\n",
      "Epoch 3/20\n",
      "25/25 [==============================] - 22s 891ms/step - loss: 0.0090 - acc: 0.9987 - val_loss: 0.0024 - val_acc: 1.0000\n",
      "Epoch 4/20\n",
      "25/25 [==============================] - 22s 891ms/step - loss: 5.2647e-06 - acc: 1.0000 - val_loss: 4.9993e-06 - val_acc: 1.0000\n",
      "Epoch 5/20\n",
      "25/25 [==============================] - 22s 892ms/step - loss: 0.0498 - acc: 0.9987 - val_loss: 0.1235 - val_acc: 1.0000\n",
      "Epoch 6/20\n",
      "25/25 [==============================] - 22s 889ms/step - loss: 0.0011 - acc: 1.0000 - val_loss: 3.0566e-10 - val_acc: 1.0000\n"
     ]
    }
   ],
   "source": [
    "early_stop = keras.callbacks.EarlyStopping(monitor='acc',\n",
    "                              min_delta=0,\n",
    "                              patience=2,\n",
    "                              verbose=0, mode='auto')\n",
    "history = model.fit(X_train, y_train, validation_split = 0.2, epochs=20, batch_size=64, \n",
    "                    callbacks=[early_stop])"
   ]
  },
  {
   "cell_type": "code",
   "execution_count": 6,
   "metadata": {},
   "outputs": [
    {
     "data": {
      "image/png": "[encoded data removed]",
      "text/plain": [
       "<Figure size 432x288 with 1 Axes>"
      ]
     },
     "metadata": {
      "needs_background": "light"
     },
     "output_type": "display_data"
    }
   ],
   "source": [
    "plt.plot(history.history['acc'])\n",
    "plt.plot(history.history['val_acc'])\n",
    "plt.title('model accuracy')\n",
    "plt.ylabel('accuracy')\n",
    "plt.xlabel('epoch')\n",
    "plt.legend(['train', 'validation'])\n",
    "plt.show()"
   ]
  },
  {
   "cell_type": "code",
   "execution_count": 7,
   "metadata": {},
   "outputs": [
    {
     "name": "stdout",
     "output_type": "stream",
     "text": [
      "Model: \"sequential_1\"\n",
      "_________________________________________________________________\n",
      "Layer (type)                 Output Shape              Param #   \n",
      "=================================================================\n",
      "embedding_1 (Embedding)      (None, 500, 50)           2583100   \n",
      "_________________________________________________________________\n",
      "spatial_dropout1d_1 (Spatial (None, 500, 50)           0         \n",
      "_________________________________________________________________\n",
      "bidirectional_1 (Bidirection (None, 500, 200)          120800    \n",
      "_________________________________________________________________\n",
      "conv1d_4 (Conv1D)            (None, 500, 128)          204928    \n",
      "_________________________________________________________________\n",
      "leaky_re_lu_6 (LeakyReLU)    (None, 500, 128)          0         \n",
      "_________________________________________________________________\n",
      "max_pooling1d_4 (MaxPooling1 (None, 125, 128)          0         \n",
      "_________________________________________________________________\n",
      "dropout_4 (Dropout)          (None, 125, 128)          0         \n",
      "_________________________________________________________________\n",
      "conv1d_5 (Conv1D)            (None, 125, 256)          262400    \n",
      "_________________________________________________________________\n",
      "leaky_re_lu_7 (LeakyReLU)    (None, 125, 256)          0         \n",
      "_________________________________________________________________\n",
      "max_pooling1d_5 (MaxPooling1 (None, 31, 256)           0         \n",
      "_________________________________________________________________\n",
      "dropout_5 (Dropout)          (None, 31, 256)           0         \n",
      "_________________________________________________________________\n",
      "conv1d_6 (Conv1D)            (None, 31, 512)           1049088   \n",
      "_________________________________________________________________\n",
      "leaky_re_lu_8 (LeakyReLU)    (None, 31, 512)           0         \n",
      "_________________________________________________________________\n",
      "max_pooling1d_6 (MaxPooling1 (None, 10, 512)           0         \n",
      "_________________________________________________________________\n",
      "dropout_6 (Dropout)          (None, 10, 512)           0         \n",
      "_________________________________________________________________\n",
      "conv1d_7 (Conv1D)            (None, 10, 512)           2097664   \n",
      "_________________________________________________________________\n",
      "leaky_re_lu_9 (LeakyReLU)    (None, 10, 512)           0         \n",
      "_________________________________________________________________\n",
      "max_pooling1d_7 (MaxPooling1 (None, 3, 512)            0         \n",
      "_________________________________________________________________\n",
      "dropout_7 (Dropout)          (None, 3, 512)            0         \n",
      "_________________________________________________________________\n",
      "global_max_pooling1d_1 (Glob (None, 512)               0         \n",
      "_________________________________________________________________\n",
      "dense_3 (Dense)              (None, 256)               131328    \n",
      "_________________________________________________________________\n",
      "leaky_re_lu_10 (LeakyReLU)   (None, 256)               0         \n",
      "_________________________________________________________________\n",
      "dense_4 (Dense)              (None, 128)               32896     \n",
      "_________________________________________________________________\n",
      "leaky_re_lu_11 (LeakyReLU)   (None, 128)               0         \n",
      "_________________________________________________________________\n",
      "dense_5 (Dense)              (None, 2)                 258       \n",
      "=================================================================\n",
      "Total params: 6,482,462\n",
      "Trainable params: 6,482,462\n",
      "Non-trainable params: 0\n",
      "_________________________________________________________________\n",
      "Epoch 1/6\n",
      "31/31 [==============================] - 26s 847ms/step - loss: 0.4069 - acc: 0.7856\n",
      "Epoch 2/6\n",
      "31/31 [==============================] - 25s 795ms/step - loss: 0.0274 - acc: 0.9979\n",
      "Epoch 3/6\n",
      "31/31 [==============================] - 25s 806ms/step - loss: 9.9645e-04 - acc: 1.0000\n",
      "Epoch 4/6\n",
      "31/31 [==============================] - 25s 794ms/step - loss: 9.2738e-08 - acc: 1.0000\n",
      "Epoch 5/6\n",
      "31/31 [==============================] - 24s 787ms/step - loss: 1.3388e-07 - acc: 1.0000\n",
      "Epoch 6/6\n",
      "31/31 [==============================] - 25s 792ms/step - loss: 1.7380e-07 - acc: 1.0000\n"
     ]
    }
   ],
   "source": [
    "model = create_cnn_lstm_model(max_words)\n",
    "history = model.fit(X_train, y_train,epochs=4, batch_size=64)"
   ]
  },
  {
   "cell_type": "code",
   "execution_count": 8,
   "metadata": {},
   "outputs": [
    {
     "data": {
      "text/html": [
       "<div>\n",
       "<style scoped>\n",
       "    .dataframe tbody tr th:only-of-type {\n",
       "        vertical-align: middle;\n",
       "    }\n",
       "\n",
       "    .dataframe tbody tr th {\n",
       "        vertical-align: top;\n",
       "    }\n",
       "\n",
       "    .dataframe thead th {\n",
       "        text-align: right;\n",
       "    }\n",
       "</style>\n",
       "<table border=\"1\" class=\"dataframe\">\n",
       "  <thead>\n",
       "    <tr style=\"text-align: right;\">\n",
       "      <th></th>\n",
       "      <th>loss</th>\n",
       "      <th>acc</th>\n",
       "      <th>epoch</th>\n",
       "    </tr>\n",
       "  </thead>\n",
       "  <tbody>\n",
       "    <tr>\n",
       "      <th>1</th>\n",
       "      <td>2.742671e-02</td>\n",
       "      <td>0.997949</td>\n",
       "      <td>1</td>\n",
       "    </tr>\n",
       "    <tr>\n",
       "      <th>2</th>\n",
       "      <td>9.964468e-04</td>\n",
       "      <td>1.000000</td>\n",
       "      <td>2</td>\n",
       "    </tr>\n",
       "    <tr>\n",
       "      <th>3</th>\n",
       "      <td>9.273813e-08</td>\n",
       "      <td>1.000000</td>\n",
       "      <td>3</td>\n",
       "    </tr>\n",
       "    <tr>\n",
       "      <th>4</th>\n",
       "      <td>1.338796e-07</td>\n",
       "      <td>1.000000</td>\n",
       "      <td>4</td>\n",
       "    </tr>\n",
       "    <tr>\n",
       "      <th>5</th>\n",
       "      <td>1.737960e-07</td>\n",
       "      <td>1.000000</td>\n",
       "      <td>5</td>\n",
       "    </tr>\n",
       "  </tbody>\n",
       "</table>\n",
       "</div>"
      ],
      "text/plain": [
       "           loss       acc  epoch\n",
       "1  2.742671e-02  0.997949      1\n",
       "2  9.964468e-04  1.000000      2\n",
       "3  9.273813e-08  1.000000      3\n",
       "4  1.338796e-07  1.000000      4\n",
       "5  1.737960e-07  1.000000      5"
      ]
     },
     "execution_count": 8,
     "metadata": {},
     "output_type": "execute_result"
    }
   ],
   "source": [
    "hist = pd.DataFrame(history.history)\n",
    "hist['epoch'] = history.epoch\n",
    "\n",
    "# Uzimamo poslednjih 5 vrsti\n",
    "hist.tail()"
   ]
  },
  {
   "cell_type": "code",
   "execution_count": 9,
   "metadata": {},
   "outputs": [
    {
     "name": "stdout",
     "output_type": "stream",
     "text": [
      "Found 19855 unique tokens. \n",
      "Data Shape: (199, 500)\n",
      "(199, 500) int32\n",
      "(199, 2) uint8\n"
     ]
    }
   ],
   "source": [
    "df1 = pd.read_csv(\"test.csv\")\n",
    "df1.rename(columns={ '0':'tekst', '1':'pisac'}, \n",
    "                 inplace=True)\n",
    "\n",
    "(X_test, y_test, kolone, word_index) = pretprocesiraj(df1, max_len)\n",
    "max_words = len(word_index)\n",
    "\n"
   ]
  },
  {
   "cell_type": "code",
   "execution_count": 10,
   "metadata": {},
   "outputs": [
    {
     "name": "stdout",
     "output_type": "stream",
     "text": [
      "Preciznost: 0.787\n",
      "Recall skor: 0.636\n",
      "F1: 0.704\n",
      "\n",
      "\n",
      "MATRICA KOFUZIJE\n",
      "[[83 17]\n",
      " [36 63]]\n",
      "\n",
      "\n",
      " Neki promaseni pasusi: \n",
      "\n",
      "\n",
      "iz vecernjih secanja 142 ispustila je carapu protrljala ozeble ruke i naglo ustala od prozora bio je potpun mrak u sobi mora da je dockan sva kruta od studeni tesko se resavala da li da prvo upali svetlost pa da onda podstakne vatru ili obrnuto tako je neodlucna stajala jedno vreme u mraku nasred sobe a onda se resi sa srecnim osmejkom da odlozi oba ta nemila posla bar za koji trenutak i da umesto toga pregleda jos jednom da li su sva vrata zaista zakljucana koracala je malo nesigurno jos uvek zanesena mnogim secanjima koja su veceras na nju navalila kao nikad u potpunoj tami u slatkoj tami koja je isto sto i stednja dakle isto sto i novac izisla je u predsoblje pipajuci naviklim pokretima znane predmete ali pre nego sto je dosla do kucnih vrata naidje u tami ispruzenom rukom na nekog ote joj se kratak i promukao vrisak takav da se i sama uplasi od njega sva pretrnu i nadje samo toliko snage da ustukne malo natrag dotaknuvsi se neocekivano vlaznog grubog sukna ona je sva jos zbunjena i rasejana od mnogih secanja bila uverena da pred njom \f",
      "stoji neko ko je sad usao spolja htela je jos da vice da doziva ali glasa nije bilo srce joj poraste i ispuni je celu oseti zatim kako se sva odjednom isprazni i rasu u hladne trnce od svega ostade samo strasna pomisao da nije sama da tu u mraku stoji onaj sto neznan i nevidljiv celog zivota vreba ovakve kao sto je ona onaj sto pre ili posle dolazi po novac hiljadu puta je ovako pretrnula u mraku od pomisli na njega i hiljadu puta se njen strah pokazao kao neosnovan ovoga puta je cini joj se zaista dosao i tu stoji nasred predsoblja u vlaznom kaputu spreman svakog trena da otpocne svoj razbojnicki posao ali upravo ovoga puta ona ne zna sta treba da radi kako da se brani i zastiti u jednoj misli kracoj od munje nastoji da se seti sta bi trebalo da ucini ali ne uspeva a seca se dobro da je vazda strahovala od kradje i razbojnika bezbroj puta se trzala u noci od sumnjivog zvuka ili cudne senke i posle dugo razmisljala sta bi radila da joj se neko i pored svih njenih mera uvuce u kucu i napadne je otkako zna za sebe sve je cinila da svoj novac ostavi na sigurno mesto da ga sakrije i obezbedi da zametne trag celog zivota nije nista drugo ni mislila ni radila tako da joj se zivot najposle sastojao samo iz tih mera predostroznosti seca se ali ovo sto se desava u ovom trenutku tako je neocekivano strasno i novo kao da nikad nije strahovala ni predvidjala nikad nista ucinila da se osigura i zastiti cini joj se da je vek provela u neoprostivoj i nerazumljivoj lakomislenosti i nebrizi ne predvidevsi i ne preduzimajuci nista i da sada gubi evo i novac i zivot ludo zalosno nepotrebno samo zbog svoje rodjene maloumnosti\n",
      "Promasen pisac: selimovic\n",
      "Tacan pisac: andric\n",
      "\n",
      "\n",
      "da se opet moze misliti na poslove racunati sredjivati ono sto je u toku pa i snovati dalje istina trgovci su zbunjeni u bankama su uzdrzljivi ukruceni i nemi kao da su stalno na liturgiji uopste svi su zabrinuti vide se i posve unezverena lica i zaplakane oci to su srbi ali o svemu tome gospodjica ne vodi i nece da vodi racuna ona zna samo da se vise ne puca i ne vice po ulicama i da se ne ruse kuce i ducani nijedno od njenih strahovanja nije se ostvarilo ni njena kuca ni njena magaza nisu napadnute ni ostecene njoj nije niko nista zamerio to je njoj dovoljno sve ostalo nije njena briga ljuti je samo sto ne moze da nadje nikoga ko bi potpuno delio njeno zadovoljstvo i bezbriznost i volju za poslom svi imaju odsutan pogled i sporu rec i sam rafo konforti jos ne dolazi sebi sto god ga zapita on odgovara neodredjeno a sto god mu predlozi on odlaze polujasnim recima dobro gospojica ali da pricekamo da se ovo slegne malo da vidimo sta ce biti a vidi se da na drugo misli tako je prosao mesec dana otprilike a onda se ta tisina kao u velikom orkestru zaista prolomi i okrenu u opsti pokret i veliku lomljavu stampa prva zagrme a zatim se krenuse gomile i dogadjaji na nezapamcen nacin u novim oblicima i dotle nevidjenom obimu zvonila su zvona trestale vojne muzike pucali topovi vazduh je neprestano od necega drhtao i ta se ustreptalost jedinila sa uznemirenoscu koja je skriveno ili otvoreno obuzimala sve stanovnike ove zlosrecne varosi ponovo su pocela posebna izdanja novina sa slovima u velicini palca dogadjaji se nisu redali nego sudarali i preskakali ultimatum srbiji objava rata a zatim ulazak u rat gotovo svih velikih sila u evropi sve jedne za \f",
      "drugom a uporedo s tim pojacavala se ona ustreptalost vazduha i opsta uznemirenost u ljudima zbog najraznovrsnijih razloga zbunjena svim tim gospodjica ne moze da se snadje ni pribere odlazi do rafe konfortija i nalazi ga sada zacudo bodra zivahna i preduzimljiva on vise ne ceka da vidi sta ce biti sto je imalo da bude tu je on ima samo jedan savet jednu parolu kupovati ko sto brze kupuje i sto sporije prodaje taj je razumeo ovo vreme taj pravi poslove i taj ce se odrzati u svima promenama sta da kupujem pitala je slabim glasom bojazljivo gledajuci rafu koji je bio porastao nekako mocan i nov sve gospojica ciglu da kupite danas pa da vam stoji mjesecdva prodacete je sa osamdeset odsto profita i rafo je zaista kupovao izmedju ostaloga bas i ciglu na ilicevoj ciglani u kosevu pored samog groblja uz rafu je u nekim manjim poslovima skromno i nevidljivo isla i gospodjica sa svojim udelom 66 malopomalo postajala je sve slobodnija i smelija to vrebanje poslova sporo i tesko donosenje odluka preprodavanje strepnja koja prati sve spekulacije i koja je ista kod gubitka i kod dobitka sve joj je to ispunjavalo vreme i\n",
      "Promasen pisac: selimovic\n",
      "Tacan pisac: andric\n",
      "\n",
      "\n",
      "kaze daje to taj svet koji ubija meke i casne ljude a sluzi i klanja se tvrdim i bezobzirnim ocelicena jutarnjim razgovorom oseca kako je kao mirna snaga svu ispunjava prezriva ravnodusnost prema toj svetini koja joj vec sada ne moze nista a koja ce puziti pred njom kad ona bude u svojoj tvrdjavi koja se zove milion i koraca ostro i cini joj se da se izdize ne samo mislima nego i telom iznad ove bedne uskomesane gomile da gazi preko nje kao preko mravinjaka 52 iv nedelja 28 juna 1914 godine nije se ni po cemu razlikovala od svih ranijih nedelja ako ne po nekoj sanjivoj sporosti sa kojom se gospodjica spremala za \f",
      "svoj redovni pohod na groblje duze nego obicno ona je stajala pored otvorenog prozora i gledala na drugu obalu miljacke i na strme padine pune zelenila na nebu je bilo jos rumenog sjaja i nad celom varosi jutarnje svezine ali je suprotna obala miljacke sa kejom bila vec ozivela vrveli su pesaci tutnjale kocije i sa sumom prolazili automobili u kojima su se videli ljudi u paradnim uniformama jarkih boja koje su izgledale kao procvetale na letnjem danu sve to gleda gospodjica ali sve to ne dira njenu svest jace od kakvog mutnog sna njena svest je ispunjena drugom zivljom sadrzinom stvarnoscu nocasnjeg sna i stojeci tako na prozoru i gledajuci ozivelu varos u sjaju letnjeg dana ona jos zivi i uziva u neodredjenoj slasti toga sna bez stalnog oblika i imena ona ga ne bi mogla ispricati ni sama sebi ne ume da da racuna o njemu ali ispunjena je njime cela dok ga sniva i jos sutra po ceo dan a narocito ovako ujutru dok su utisci nocnih snova jos zivi a dnevni dozivljaji nisu stigli da ih zbrisu i potisnu nije to prvi put da ona sniva san o svom snu o milionu sa nejednakom snagom pod raznim vidovima ona je za poslednjih nekoliko godina nekoliko puta snivala ovo isto da je milion dosegnut i u istom trenutku prevazidjen i svaki put je kao i ove minule noci osetila pri tom 53 kako sva premire i raste od toplog sjaja koji je potpuno prozima iznutra i celu obliva spolja a tu na grudima negde ispod grla tu je nepresusni izvor toga sjaja koji zanosi i usrecava i kad polozi ruku na grudi pa je zatim prinese ocima vidi da joj je ruka sva prelivena tim sjajem u kome se zlato mesa sa srebrom a koji nije ni tecnost ni vazdusasto telo nego nesto na sredini izmedju toga dvoga i koji je kao blaga a mocna sila podize sa zemlje izdvaja od sveta brani i zaklanja od svakog zla i ponizenja koje moze coveka da zadesi okupana i ispunjena tim sjajem ona niti ide niti leti nego lebdi negde izmedju ponosnog hoda i cudesnog leta to je trenutak savrsene srece kad sa visine postignutog miliona oseca da ne deli vise sudbinu vecine ljudi i da nije vezana zakonima utakmice u kojoj se nedostojna\n",
      "Promasen pisac: selimovic\n",
      "Tacan pisac: andric\n",
      "\n",
      "\n"
     ]
    }
   ],
   "source": [
    "evaluacija_binarna_klasifikacija(X_test, y_test, model, kolone, word_index)"
   ]
  },
  {
   "cell_type": "markdown",
   "metadata": {},
   "source": [
    "#REFERENCA: https://medium.com/@romannempyre/sentiment-analysis-using-1d-convolutional-neural-networks-part-1-f8b6316489a2"
   ]
  }
 ],
 "metadata": {
  "kernelspec": {
   "display_name": "Python 3",
   "language": "python",
   "name": "python3"
  },
  "language_info": {
   "codemirror_mode": {
    "name": "ipython",
    "version": 3
   },
   "file_extension": ".py",
   "mimetype": "text/x-python",
   "name": "python",
   "nbconvert_exporter": "python",
   "pygments_lexer": "ipython3",
   "version": "3.6.9"
  }
 },
 "nbformat": 4,
 "nbformat_minor": 4
}
