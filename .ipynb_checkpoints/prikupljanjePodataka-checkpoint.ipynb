{
 "cells": [
  {
   "cell_type": "code",
   "execution_count": 1,
   "metadata": {},
   "outputs": [],
   "source": [
    "import csv\n",
    "import PyPDF2\n",
    "import pandas as pd\n",
    "import textract\n",
    "import sys, re, os\n"
   ]
  },
  {
   "cell_type": "code",
   "execution_count": 2,
   "metadata": {},
   "outputs": [],
   "source": [
    "\n",
    "def napraviCSV(path, pisac, tip_fajla):\n",
    "    #ucitavamo pdf fajl i citamo tekst tog pdf fajla\n",
    "    text = textract.process(path, method='pdfminer', encoding = 'raw_unicode_escape')\n",
    "\n",
    "    text = text.decode('raw_unicode_escape')\n",
    "    \n",
    "    #brisemo entere     \n",
    "    ri = re.compile(r\"\\n\")\n",
    "    newText = re.sub(ri, r'', text)\n",
    "\n",
    "    #brisemo znakove intepunkcije\n",
    "    ri = re.compile(r\"[!.\\?<=>:;,]\")\n",
    "    newText = re.sub(ri, r'', newText)\n",
    "    \n",
    "    #ubacujemo slovo ž\n",
    "    ri = re.compile(r\"\\\\u017\")\n",
    "    newText = re.sub(ri, r'ž', newText)\n",
    "\n",
    "    #ubacujemo slovo ć\n",
    "    ri = re.compile(r\"\\\\u0107\")\n",
    "    newText = re.sub(ri, r'ć', newText)\n",
    "\n",
    "    #ubacujemo slovo č\n",
    "    ri = re.compile(r\"\\\\u010d\")\n",
    "    newText = re.sub(ri, r'č', newText)\n",
    "\n",
    "    #ubacujemo slovo đ\n",
    "    ri = re.compile(r\"\\\\u0161\")\n",
    "    newText = re.sub(ri, r'đ', newText)\n",
    "\n",
    "    #ubacujemo slovo š\n",
    "    ri = re.compile(r\"\\/xfl\")\n",
    "    krajnji = re.sub(ri, r'š', newText)\n",
    "    \n",
    "    #ubacujemo newText u listu\n",
    "    for f in re.findall(\"([A-Z]+)\", krajnji):\n",
    "        #prebacujemo sva velika slova u mala\n",
    "        krajnji = krajnji.replace(f, f.lower())\n",
    "    #string krajnji razdvajamo u listu, separator je razmak\n",
    "    lista = krajnji.split(' ')\n",
    "    #print(len(lista))\n",
    "    tmp = \"\"\n",
    "    #u ovu promenjivu cemo da stavimo sve redove koje ubacujemo u CSV\n",
    "    listaSemplova = []\n",
    "    for i in range(len(lista)%500, len(lista)):\n",
    "        tmp += lista[i] + \" \"\n",
    "        if(i % 500 == 0):\n",
    "            listaSemplova.append([tmp, pisac])\n",
    "            tmp = \"\"\n",
    "    \n",
    "    my_df = pd.DataFrame(listaSemplova)\n",
    "    #my_df.to_csv(pisac+'.csv', index=False, header=False)\n",
    "    if(tip_fajla == \"trening\"):\n",
    "        #proveravamo da li postoji CSV fajl i ako postoji appendujemo, ako ne pravimo ga.\n",
    "        if not os.path.isfile('pisci.csv'):\n",
    "            my_df.to_csv('pisci.csv', header='column_names', index=False)\n",
    "        else: # else it exists so append without writing the header\n",
    "            my_df.to_csv('pisci.csv', mode='a', header=False, index=False)\n",
    "    else:\n",
    "        #proveravamo da li postoji CSV fajl i ako postoji appendujemo, ako ne pravimo ga.\n",
    "        if not os.path.isfile('test.csv'):\n",
    "            my_df.to_csv('test.csv', header='column_names', index=False)\n",
    "        else: # else it exists so append without writing the header\n",
    "            my_df.to_csv('test.csv', mode='a', header=False, index=False)  "
   ]
  },
  {
   "cell_type": "code",
   "execution_count": 3,
   "metadata": {},
   "outputs": [],
   "source": [
    "path = 'knjige/Госпођица (Иво Андрић).pdf'\n",
    "napraviCSV(path, \"andric\", \"trening\")\n"
   ]
  },
  {
   "cell_type": "code",
   "execution_count": 4,
   "metadata": {},
   "outputs": [],
   "source": [
    "path = 'knjige/Ivo-Andric-Na-Drini-cuprija.pdf'\n",
    "napraviCSV(path, \"andric\", \"trening\")"
   ]
  },
  {
   "cell_type": "code",
   "execution_count": 5,
   "metadata": {},
   "outputs": [],
   "source": [
    "path = 'knjige/Mesa Selimovic - Dervis i smrt.pdf'\n",
    "napraviCSV(path, \"selimovic\", \"trening\")\n"
   ]
  },
  {
   "cell_type": "code",
   "execution_count": 6,
   "metadata": {},
   "outputs": [],
   "source": [
    "path = 'knjige/kupdf.net_mesa-selimovic-tvrdjava.pdf'\n",
    "napraviCSV(path, \"selimovic\", \"trening\")"
   ]
  },
  {
   "cell_type": "code",
   "execution_count": null,
   "metadata": {},
   "outputs": [],
   "source": [
    "path = 'knjige/Meša Selimović - Ostrvo-Connectum (2014).pdf'\n",
    "napraviCSV(path, \"selimovic\", \"test\")"
   ]
  }
 ],
 "metadata": {
  "kernelspec": {
   "display_name": "Python 3",
   "language": "python",
   "name": "python3"
  },
  "language_info": {
   "codemirror_mode": {
    "name": "ipython",
    "version": 3
   },
   "file_extension": ".py",
   "mimetype": "text/x-python",
   "name": "python",
   "nbconvert_exporter": "python",
   "pygments_lexer": "ipython3",
   "version": "3.6.9"
  }
 },
 "nbformat": 4,
 "nbformat_minor": 4
}
