{
 "cells": [
  {
   "cell_type": "code",
   "execution_count": null,
   "metadata": {},
   "outputs": [],
   "source": [
    "import tensorflow as tf\n",
    "from tensorflow import keras\n",
    "from tensorflow.keras import Model\n",
    "from sklearn.preprocessing import LabelBinarizer\n",
    "from keras.preprocessing.sequence import pad_sequences\n",
    "from keras.preprocessing.text import Tokenizer\n",
    "from sklearn.preprocessing import OneHotEncoder\n",
    "from sklearn.metrics import precision_score\n",
    "from sklearn.metrics import f1_score\n",
    "from sklearn.metrics import recall_score\n",
    "from sklearn.metrics import confusion_matrix\n",
    "import sklearn.metrics as skm\n",
    "import pandas as pd\n",
    "import numpy as np\n",
    "import matplotlib.pyplot as plt\n",
    "import glob"
   ]
  },
  {
   "cell_type": "code",
   "execution_count": null,
   "metadata": {},
   "outputs": [],
   "source": [
    "def evaluacija_binarna_klasifikacija(X_test, y_test, model, kolone, word_index):\n",
    "    y_pred = model.predict(X_test)\n",
    "    y_pred1 = np.argmax(y_pred,axis=1)\n",
    "    y_test1 = np.argmax(y_test,axis=1)\n",
    "    print('Preciznost: %.3f' % precision_score(y_true=y_test1, y_pred = y_pred1))\n",
    "    print('Recall skor: %.3f' % recall_score(y_true=y_test1, y_pred = y_pred1))\n",
    "    print('F1: %.3f\\n\\n' % f1_score(y_true=y_test1, y_pred = y_pred1))\n",
    "    \n",
    "    \n",
    "    dummies_pred = pd.get_dummies(kolone)\n",
    "\n",
    "    y_pred = pd.DataFrame(data=y_pred, columns=kolone)\n",
    "    y_test = pd.DataFrame(data=y_test, columns=kolone)\n",
    "    y_pred = y_pred.idxmax(axis=1)\n",
    "    y_test = y_test.idxmax(axis=1)\n",
    "\n",
    "    confmat = confusion_matrix(y_true=y_test, y_pred=y_pred)\n",
    "    print(\"MATRICA KOFUZIJE\")\n",
    "    print(confmat)\n",
    "    y_pred = np.array(y_pred)\n",
    "    y_test = np.array(y_test)\n",
    "    promasen_tekst = X_test[y_test != y_pred]\n",
    "\n",
    "    reverse_word_index = dict([(value, key) for (key, value) in word_index.items()])\n",
    "\n",
    "    #promasen_tekst = decoded_review\n",
    "    tacan_pisac = y_test[y_test != y_pred]\n",
    "    promasen_pisac = y_pred[y_test != y_pred]\n",
    "    duzine = [len(promasen_pisac), len(tacan_pisac), len(promasen_tekst), 3]\n",
    "    print(\"\\n\\n Neki promaseni pasusi: \\n\\n\")\n",
    "    for i in range(min(duzine)):\n",
    "        promasen_tekst1 = ' '.join([reverse_word_index.get(kljuc, '') for kljuc in promasen_tekst[i]])\n",
    "        print(promasen_tekst1)\n",
    "        print(\"Promasen pisac: {}\".format(promasen_pisac[i]))\n",
    "        print(\"Tacan pisac: {}\".format(tacan_pisac[i]))\n",
    "        print(\"\\n\")\n",
    "\n",
    "    if(min(duzine) == 0):\n",
    "        print(\"Nema ni jednog promasaja.\")  "
   ]
  }
 ],
 "metadata": {
  "kernelspec": {
   "display_name": "Python 3",
   "language": "python",
   "name": "python3"
  },
  "language_info": {
   "codemirror_mode": {
    "name": "ipython",
    "version": 3
   },
   "file_extension": ".py",
   "mimetype": "text/x-python",
   "name": "python",
   "nbconvert_exporter": "python",
   "pygments_lexer": "ipython3",
   "version": "3.6.9"
  }
 },
 "nbformat": 4,
 "nbformat_minor": 4
}
